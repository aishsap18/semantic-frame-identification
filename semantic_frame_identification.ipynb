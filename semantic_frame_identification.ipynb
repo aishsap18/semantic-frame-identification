{
 "cells": [
  {
   "cell_type": "markdown",
   "metadata": {},
   "source": [
    "# Sentence Level Semantic Frame Identification"
   ]
  },
  {
   "cell_type": "code",
   "execution_count": 1,
   "metadata": {},
   "outputs": [],
   "source": [
    "def warn(*args, **kwargs):\n",
    "    pass\n",
    "import warnings\n",
    "warnings.warn = warn"
   ]
  },
  {
   "cell_type": "code",
   "execution_count": 2,
   "metadata": {},
   "outputs": [],
   "source": [
    "import numpy as np\n",
    "import json\n",
    "from conllu import parse\n",
    "import matplotlib.pyplot as plt"
   ]
  },
  {
   "cell_type": "code",
   "execution_count": 3,
   "metadata": {},
   "outputs": [],
   "source": [
    "def read_file(file_name):\n",
    "    with open(file_name, \"r\", encoding=\"utf-8\") as json_file:\n",
    "        data = json.load(json_file)\n",
    "    return data"
   ]
  },
  {
   "cell_type": "code",
   "execution_count": 4,
   "metadata": {},
   "outputs": [],
   "source": [
    "data_train = read_file('UP_German/de-up-train.conllu.json')\n",
    "data_dev = read_file('UP_German/de-up-dev.conllu.json')\n",
    "data_test = read_file('UP_German/de-up-test.conllu.json')"
   ]
  },
  {
   "cell_type": "markdown",
   "metadata": {},
   "source": [
    "### Number of instances"
   ]
  },
  {
   "cell_type": "code",
   "execution_count": 5,
   "metadata": {},
   "outputs": [
    {
     "name": "stdout",
     "output_type": "stream",
     "text": [
      "Train data: 21261\n",
      "Dev data: 1180\n",
      "Test data: 1317\n"
     ]
    }
   ],
   "source": [
    "print(\"Train data: {}\".format(len(data_train)))\n",
    "print(\"Dev data: {}\".format(len(data_dev)))\n",
    "print(\"Test data: {}\".format(len(data_test)))"
   ]
  },
  {
   "cell_type": "markdown",
   "metadata": {},
   "source": [
    "### Number of unique sentences"
   ]
  },
  {
   "cell_type": "code",
   "execution_count": 6,
   "metadata": {},
   "outputs": [],
   "source": [
    "def get_no_of_unique_sentences(data):\n",
    "    sentences_list = [data[instance]['conllu'] for instance in data]\n",
    "    conllu_sentences = ['\\n'.join(sentence) for sentence in sentences_list]\n",
    "    conllu_data = '\\n\\n'.join(conllu_sentences)\n",
    "    token_list = []\n",
    "\n",
    "    # creating a list of tokens for each sentence\n",
    "    for tokens in parse(conllu_data):\n",
    "        token_list.append(np.array(tokens))\n",
    "\n",
    "    token_list = np.array(token_list)\n",
    "    \n",
    "    sentences = []\n",
    "    for tokens in token_list:\n",
    "        sentence = []\n",
    "        for t in tokens:\n",
    "            sentence.append(t['form'])\n",
    "        sentences.append(' '.join(sentence))\n",
    "        \n",
    "    unique_data = np.unique(sentences)\n",
    "    return len(unique_data), token_list, sentences"
   ]
  },
  {
   "cell_type": "code",
   "execution_count": 7,
   "metadata": {
    "scrolled": false
   },
   "outputs": [
    {
     "name": "stdout",
     "output_type": "stream",
     "text": [
      "Number of unique sentences\n",
      "Train data: 12956\n",
      "Dev data: 717\n",
      "Test data: 814\n"
     ]
    }
   ],
   "source": [
    "print(\"Number of unique sentences\")\n",
    "num_unique_train, tokens_list_train, sentences_train = get_no_of_unique_sentences(data_train)\n",
    "print(\"Train data: {}\".format(num_unique_train))\n",
    "num_unique_dev, tokens_list_dev, sentences_dev = get_no_of_unique_sentences(data_dev)\n",
    "print(\"Dev data: {}\".format(num_unique_dev))\n",
    "num_unique_test, tokens_list_test, sentences_test = get_no_of_unique_sentences(data_test)\n",
    "print(\"Test data: {}\".format(num_unique_test))"
   ]
  },
  {
   "cell_type": "markdown",
   "metadata": {},
   "source": [
    "Number of unique sentences\n",
    "Train data: 12956\n",
    "Dev data: 717\n",
    "Test data: 814"
   ]
  },
  {
   "cell_type": "code",
   "execution_count": 8,
   "metadata": {
    "scrolled": true
   },
   "outputs": [
    {
     "data": {
      "text/plain": [
       "'Der See wird durch Schnee - und Gletscherschmelzwasser gespeist .'"
      ]
     },
     "execution_count": 8,
     "metadata": {},
     "output_type": "execute_result"
    }
   ],
   "source": [
    "sentences_train[0]"
   ]
  },
  {
   "cell_type": "markdown",
   "metadata": {},
   "source": [
    "### Number of unique labels/classes"
   ]
  },
  {
   "cell_type": "code",
   "execution_count": 9,
   "metadata": {},
   "outputs": [
    {
     "name": "stdout",
     "output_type": "stream",
     "text": [
      "Total number of labels: 1169\n"
     ]
    }
   ],
   "source": [
    "labels_list_train = [data_train[instance]['label'] for instance in data_train]\n",
    "labels_list_dev = [data_dev[instance]['label'] for instance in data_dev]\n",
    "labels_list_test = [data_test[instance]['label'] for instance in data_test]\n",
    "labels_list = labels_list_train + labels_list_dev + labels_list_test\n",
    "labels = np.unique(labels_list)\n",
    "print(\"Total number of labels: {}\".format(len(labels)))"
   ]
  },
  {
   "cell_type": "markdown",
   "metadata": {},
   "source": [
    "### Training histogram - number of labels"
   ]
  },
  {
   "cell_type": "code",
   "execution_count": 10,
   "metadata": {},
   "outputs": [
    {
     "data": {
      "text/plain": [
       "(array(['abandon.01', 'abolish.01', 'abort.01', ..., 'wrap.01', 'write.01',\n",
       "        'yield.01'], dtype='<U16'),\n",
       " array([ 3,  6,  9, ...,  4, 72,  5], dtype=int64))"
      ]
     },
     "execution_count": 10,
     "metadata": {},
     "output_type": "execute_result"
    }
   ],
   "source": [
    "train_labels, counts = np.unique(labels_list_train, return_counts=True)\n",
    "train_labels, counts"
   ]
  },
  {
   "cell_type": "code",
   "execution_count": 11,
   "metadata": {
    "scrolled": true
   },
   "outputs": [
    {
     "data": {
      "text/plain": [
       "24"
      ]
     },
     "execution_count": 11,
     "metadata": {},
     "output_type": "execute_result"
    }
   ],
   "source": [
    "diff = list(set(labels) - set(train_labels))\n",
    "len(diff)"
   ]
  },
  {
   "cell_type": "code",
   "execution_count": 12,
   "metadata": {},
   "outputs": [
    {
     "data": {
      "text/plain": [
       "(1169, 1169)"
      ]
     },
     "execution_count": 12,
     "metadata": {},
     "output_type": "execute_result"
    }
   ],
   "source": [
    "labels_to_plot = np.append(train_labels, diff)\n",
    "counts = np.append(counts, np.repeat(0, 24))\n",
    "len(labels_to_plot), len(counts)"
   ]
  },
  {
   "cell_type": "code",
   "execution_count": 13,
   "metadata": {},
   "outputs": [
    {
     "data": {
      "text/plain": [
       "(4023, 0)"
      ]
     },
     "execution_count": 13,
     "metadata": {},
     "output_type": "execute_result"
    }
   ],
   "source": [
    "max(counts), min(counts)"
   ]
  },
  {
   "cell_type": "code",
   "execution_count": 14,
   "metadata": {},
   "outputs": [
    {
     "data": {
      "image/png": "[encoded data removed]",
      "text/plain": [
       "<Figure size 432x288 with 1 Axes>"
      ]
     },
     "metadata": {
      "needs_background": "light"
     },
     "output_type": "display_data"
    }
   ],
   "source": [
    "plt.hist(counts)\n",
    "plt.show()"
   ]
  },
  {
   "cell_type": "code",
   "execution_count": 15,
   "metadata": {},
   "outputs": [
    {
     "data": {
      "image/png": "[encoded data removed]",
      "text/plain": [
       "<Figure size 432x288 with 1 Axes>"
      ]
     },
     "metadata": {
      "needs_background": "light"
     },
     "output_type": "display_data"
    }
   ],
   "source": [
    "plt.hist(counts, bins=[0, 10, 30, 50, 100, 200, 300, 400, 500])\n",
    "plt.show()"
   ]
  },
  {
   "cell_type": "markdown",
   "metadata": {},
   "source": [
    "## Baseline - Naive Bayes with Laplace smoothed unigram likelihood and uniform prior"
   ]
  },
  {
   "cell_type": "code",
   "execution_count": 16,
   "metadata": {},
   "outputs": [],
   "source": [
    "from sklearn.metrics import accuracy_score\n",
    "from sklearn.metrics import precision_score\n",
    "from sklearn.metrics import recall_score\n",
    "from sklearn.metrics import f1_score"
   ]
  },
  {
   "cell_type": "code",
   "execution_count": 17,
   "metadata": {
    "scrolled": false
   },
   "outputs": [
    {
     "data": {
      "text/plain": [
       "Pipeline(memory=None,\n",
       "     steps=[('vect', CountVectorizer(analyzer='word', binary=False, decode_error='strict',\n",
       "        dtype=<class 'numpy.int64'>, encoding='utf-8', input='content',\n",
       "        lowercase=True, max_df=1.0, max_features=None, min_df=1,\n",
       "        ngram_range=(1, 1), preprocessor=None, stop_words=None,\n",
       "        strip_accents=None, token_pattern='(?u)\\\\b\\\\w\\\\w+\\\\b',\n",
       "        tokenizer=None, vocabulary=None)), ('clf', MultinomialNB(alpha=1, class_prior=None, fit_prior=False))])"
      ]
     },
     "execution_count": 17,
     "metadata": {},
     "output_type": "execute_result"
    }
   ],
   "source": [
    "from sklearn.naive_bayes import MultinomialNB\n",
    "from sklearn.pipeline import Pipeline\n",
    "from sklearn.feature_extraction.text import CountVectorizer\n",
    "\n",
    "nb = Pipeline([\n",
    "                ('vect', CountVectorizer()),\n",
    "               ('clf', MultinomialNB(alpha=1, fit_prior=False)),\n",
    "              ])\n",
    "\n",
    "nb.fit(sentences_train, labels_list_train)"
   ]
  },
  {
   "cell_type": "code",
   "execution_count": 18,
   "metadata": {},
   "outputs": [
    {
     "name": "stdout",
     "output_type": "stream",
     "text": [
      "accuracy 0.2245762711864407\n",
      "precision 0.9807824718141369\n",
      "recall 0.2245762711864407\n",
      "f1 score 0.35265705364047517\n"
     ]
    }
   ],
   "source": [
    "y_pred_nb = nb.predict(sentences_dev)\n",
    "\n",
    "accuracy_nb = accuracy_score(y_pred_nb, labels_list_dev)\n",
    "print('accuracy {}'.format(accuracy_nb))\n",
    "precision_nb = precision_score(y_pred_nb, labels_list_dev, average='weighted')\n",
    "print('precision {}'.format(precision_nb))\n",
    "recall_nb = recall_score(y_pred_nb, labels_list_dev, average='weighted')\n",
    "print('recall {}'.format(recall_nb))\n",
    "f1score_nb = f1_score(y_pred_nb, labels_list_dev, average='weighted')\n",
    "print('f1 score {}'.format(f1score_nb))"
   ]
  },
  {
   "cell_type": "markdown",
   "metadata": {},
   "source": [
    "## Maxent model"
   ]
  },
  {
   "cell_type": "code",
   "execution_count": 19,
   "metadata": {},
   "outputs": [],
   "source": [
    "from sklearn.feature_extraction.text import CountVectorizer\n",
    "from sklearn import linear_model"
   ]
  },
  {
   "cell_type": "markdown",
   "metadata": {},
   "source": [
    "### 1. Feature - Count"
   ]
  },
  {
   "cell_type": "code",
   "execution_count": 20,
   "metadata": {},
   "outputs": [
    {
     "data": {
      "text/plain": [
       "SGDClassifier(alpha=0.0001, average=False, class_weight=None,\n",
       "       early_stopping=False, epsilon=0.1, eta0=0.0, fit_intercept=True,\n",
       "       l1_ratio=0.15, learning_rate='optimal', loss='log', max_iter=None,\n",
       "       n_iter=None, n_iter_no_change=5, n_jobs=None, penalty='l2',\n",
       "       power_t=0.5, random_state=None, shuffle=True, tol=None,\n",
       "       validation_fraction=0.1, verbose=0, warm_start=False)"
      ]
     },
     "execution_count": 20,
     "metadata": {},
     "output_type": "execute_result"
    }
   ],
   "source": [
    "count_vect = CountVectorizer()\n",
    "count_features_train = count_vect.fit_transform(sentences_train)\n",
    "X_train = count_features_train\n",
    "\n",
    "logreg = linear_model.SGDClassifier(loss='log')\n",
    "logreg.fit(X_train, labels_list_train)"
   ]
  },
  {
   "cell_type": "code",
   "execution_count": 21,
   "metadata": {},
   "outputs": [
    {
     "name": "stdout",
     "output_type": "stream",
     "text": [
      "accuracy 0.3855932203389831\n",
      "precision 0.6905656643270416\n",
      "recall 0.3855932203389831\n",
      "f1 score 0.4614758706656223\n"
     ]
    }
   ],
   "source": [
    "count_features_dev = count_vect.transform(sentences_dev)\n",
    "X_dev = count_features_dev\n",
    "y_pred_counts = logreg.predict(X_dev)\n",
    "\n",
    "accuracy_counts = accuracy_score(y_pred_counts, labels_list_dev)\n",
    "print('accuracy {}'.format(accuracy_counts))\n",
    "precision_counts = precision_score(y_pred_counts, labels_list_dev, average='weighted')\n",
    "print('precision {}'.format(precision_counts))\n",
    "recall_counts = recall_score(y_pred_counts, labels_list_dev, average='weighted')\n",
    "print('recall {}'.format(recall_counts))\n",
    "f1score_counts = f1_score(y_pred_counts, labels_list_dev, average='weighted')\n",
    "print('f1 score {}'.format(f1score_counts))"
   ]
  },
  {
   "cell_type": "markdown",
   "metadata": {},
   "source": [
    "### 2. Feature - is_capitalize"
   ]
  },
  {
   "cell_type": "code",
   "execution_count": 22,
   "metadata": {},
   "outputs": [],
   "source": [
    "from sklearn.pipeline import FeatureUnion, Pipeline"
   ]
  },
  {
   "cell_type": "code",
   "execution_count": 23,
   "metadata": {},
   "outputs": [],
   "source": [
    "def is_capitalize_feature_func(sentence):\n",
    "    tokens = sentence.split(\" \")\n",
    "    features = []\n",
    "    for token in tokens:\n",
    "        if token.istitle():\n",
    "            features.append(1)\n",
    "        else:\n",
    "            features.append(0)\n",
    "    return np.asarray(features)"
   ]
  },
  {
   "cell_type": "code",
   "execution_count": 24,
   "metadata": {},
   "outputs": [],
   "source": [
    "def pipelinize_feature(function):\n",
    "    def list_comprehend_a_function(sentences_list):\n",
    "        if active:\n",
    "            processed = [function(sentence) for sentence in sentences_list]\n",
    "            return np.asarray(processed)\n",
    "        else:\n",
    "            return np.zeros(len(sentences_list))"
   ]
  },
  {
   "cell_type": "code",
   "execution_count": 25,
   "metadata": {
    "scrolled": true
   },
   "outputs": [
    {
     "data": {
      "text/plain": [
       "Pipeline(memory=None,\n",
       "     steps=[('features', FeatureUnion(n_jobs=None,\n",
       "       transformer_list=[('vectorizer', CountVectorizer(analyzer='word', binary=False, decode_error='strict',\n",
       "        dtype=<class 'numpy.int64'>, encoding='utf-8', input='content',\n",
       "        lowercase=True, max_df=1.0, max_features=None, min_df=1,\n",
       "       ...m_state=None, shuffle=True, tol=None,\n",
       "       validation_fraction=0.1, verbose=0, warm_start=False))])"
      ]
     },
     "execution_count": 25,
     "metadata": {},
     "output_type": "execute_result"
    }
   ],
   "source": [
    "pipeline_iscap = Pipeline([\n",
    "        ('features', FeatureUnion([\n",
    "                    ('vectorizer', CountVectorizer()),\n",
    "                    ('is_capitalize', pipelinize_feature(is_capitalize_feature_func))\n",
    "                ])),\n",
    "        ('classifier', linear_model.SGDClassifier(loss='log'))\n",
    "    ])\n",
    "\n",
    "pipeline_iscap.fit(sentences_train, labels_list_train)"
   ]
  },
  {
   "cell_type": "code",
   "execution_count": 26,
   "metadata": {},
   "outputs": [
    {
     "name": "stdout",
     "output_type": "stream",
     "text": [
      "accuracy 0.37796610169491524\n",
      "precision 0.6796950657956812\n",
      "recall 0.37796610169491524\n",
      "f1 score 0.44614324557694746\n"
     ]
    }
   ],
   "source": [
    "y_pred_iscap = pipeline_iscap.predict(sentences_dev)\n",
    "\n",
    "accuracy_iscap = accuracy_score(y_pred_iscap, labels_list_dev)\n",
    "print('accuracy {}'.format(accuracy_iscap))\n",
    "precision_iscap = precision_score(y_pred_iscap, labels_list_dev, average='weighted')\n",
    "print('precision {}'.format(precision_iscap))\n",
    "recall_iscap = recall_score(y_pred_iscap, labels_list_dev, average='weighted')\n",
    "print('recall {}'.format(recall_iscap))\n",
    "f1score_iscap = f1_score(y_pred_iscap, labels_list_dev, average='weighted')\n",
    "print('f1 score {}'.format(f1score_iscap))"
   ]
  },
  {
   "cell_type": "markdown",
   "metadata": {},
   "source": [
    "### 3. Features - count and is_verb "
   ]
  },
  {
   "cell_type": "code",
   "execution_count": 27,
   "metadata": {},
   "outputs": [],
   "source": [
    "def is_verb_feature_func(annot_list):\n",
    "    features = []\n",
    "    for annot in annot_list:\n",
    "        if annot == 'VERB':\n",
    "            features.append(1)\n",
    "        else:\n",
    "            features.append(0)\n",
    "    return np.asarray(features)"
   ]
  },
  {
   "cell_type": "code",
   "execution_count": 28,
   "metadata": {},
   "outputs": [],
   "source": [
    "def pipelinize_feature_2(function, annot_list):\n",
    "    def list_comprehend_a_function(sentence_list, annot_list):\n",
    "        if active:\n",
    "            processed = [function(annots) for annots in annot_list]\n",
    "            return np.asarray(processed)\n",
    "        else:\n",
    "            return np.zeros(len(sentences_list))"
   ]
  },
  {
   "cell_type": "code",
   "execution_count": 29,
   "metadata": {},
   "outputs": [
    {
     "data": {
      "text/plain": [
       "['DET', 'NOUN', 'AUX', 'ADP', 'NOUN', 'PUNCT', 'CONJ', 'NOUN', 'VERB', 'PUNCT']"
      ]
     },
     "execution_count": 29,
     "metadata": {},
     "output_type": "execute_result"
    }
   ],
   "source": [
    "annot_list_upostag_train = []\n",
    "for token_list in tokens_list_train:\n",
    "    annots = []\n",
    "    for token in token_list:\n",
    "        annots.append(token['upostag'])\n",
    "    annot_list_upostag_train.append(annots)\n",
    "annot_list_upostag_train[0]"
   ]
  },
  {
   "cell_type": "code",
   "execution_count": 30,
   "metadata": {
    "scrolled": true
   },
   "outputs": [
    {
     "data": {
      "text/plain": [
       "Pipeline(memory=None,\n",
       "     steps=[('features', FeatureUnion(n_jobs=None,\n",
       "       transformer_list=[('vectorizer', CountVectorizer(analyzer='word', binary=False, decode_error='strict',\n",
       "        dtype=<class 'numpy.int64'>, encoding='utf-8', input='content',\n",
       "        lowercase=True, max_df=1.0, max_features=None, min_df=1,\n",
       "       ...m_state=None, shuffle=True, tol=None,\n",
       "       validation_fraction=0.1, verbose=0, warm_start=False))])"
      ]
     },
     "execution_count": 30,
     "metadata": {},
     "output_type": "execute_result"
    }
   ],
   "source": [
    "pipeline_isverb = Pipeline([\n",
    "        ('features', FeatureUnion([\n",
    "                    ('vectorizer', CountVectorizer()),\n",
    "                    ('is_verb', pipelinize_feature_2(is_verb_feature_func, annot_list_upostag_train))\n",
    "                ])),\n",
    "        ('classifier', linear_model.SGDClassifier(loss='log'))\n",
    "    ])\n",
    "\n",
    "pipeline_isverb.fit(sentences_train, labels_list_train)"
   ]
  },
  {
   "cell_type": "code",
   "execution_count": 31,
   "metadata": {},
   "outputs": [
    {
     "name": "stdout",
     "output_type": "stream",
     "text": [
      "accuracy 0.3805084745762712\n",
      "precision 0.6868254337572521\n",
      "recall 0.3805084745762712\n",
      "f1 score 0.45707459989478255\n"
     ]
    }
   ],
   "source": [
    "y_pred_isverb = pipeline_isverb.predict(sentences_dev)\n",
    "\n",
    "accuracy_isverb = accuracy_score(y_pred_isverb, labels_list_dev)\n",
    "print('accuracy {}'.format(accuracy_isverb))\n",
    "precision_isverb = precision_score(y_pred_isverb, labels_list_dev, average='weighted')\n",
    "print('precision {}'.format(precision_isverb))\n",
    "recall_isverb = recall_score(y_pred_isverb, labels_list_dev, average='weighted')\n",
    "print('recall {}'.format(recall_isverb))\n",
    "f1score_isverb = f1_score(y_pred_isverb, labels_list_dev, average='weighted')\n",
    "print('f1 score {}'.format(f1score_isverb))"
   ]
  },
  {
   "cell_type": "markdown",
   "metadata": {},
   "source": [
    "### 4. Features - count and syntax"
   ]
  },
  {
   "cell_type": "code",
   "execution_count": 32,
   "metadata": {
    "scrolled": true
   },
   "outputs": [],
   "source": [
    "def syntax_feature_func(annot_list):\n",
    "    features = []\n",
    "    for annot in annot_list:\n",
    "        if annot in ['root', 'nmod']:\n",
    "            features.append(1)\n",
    "        else:\n",
    "            features.append(0)\n",
    "    return np.asarray(features)"
   ]
  },
  {
   "cell_type": "code",
   "execution_count": 33,
   "metadata": {
    "scrolled": true
   },
   "outputs": [
    {
     "data": {
      "text/plain": [
       "['det',\n",
       " 'nsubjpass',\n",
       " 'auxpass',\n",
       " 'case',\n",
       " 'nmod',\n",
       " 'punct',\n",
       " 'cc',\n",
       " 'conj',\n",
       " 'root',\n",
       " 'punct']"
      ]
     },
     "execution_count": 33,
     "metadata": {},
     "output_type": "execute_result"
    }
   ],
   "source": [
    "annot_list_syntax_train = []\n",
    "for token_list in tokens_list_train:\n",
    "    annots = []\n",
    "    for token in token_list:\n",
    "        annots.append(token['deprel'])\n",
    "    annot_list_syntax_train.append(annots)\n",
    "annot_list_syntax_train[0]"
   ]
  },
  {
   "cell_type": "code",
   "execution_count": 34,
   "metadata": {
    "scrolled": true
   },
   "outputs": [
    {
     "data": {
      "text/plain": [
       "Pipeline(memory=None,\n",
       "     steps=[('features', FeatureUnion(n_jobs=None,\n",
       "       transformer_list=[('vectorizer', CountVectorizer(analyzer='word', binary=False, decode_error='strict',\n",
       "        dtype=<class 'numpy.int64'>, encoding='utf-8', input='content',\n",
       "        lowercase=True, max_df=1.0, max_features=None, min_df=1,\n",
       "       ...m_state=None, shuffle=True, tol=None,\n",
       "       validation_fraction=0.1, verbose=0, warm_start=False))])"
      ]
     },
     "execution_count": 34,
     "metadata": {},
     "output_type": "execute_result"
    }
   ],
   "source": [
    "pipeline_syntax = Pipeline([\n",
    "        ('features', FeatureUnion([\n",
    "                    ('vectorizer', CountVectorizer()),\n",
    "                    ('syntax', pipelinize_feature_2(syntax_feature_func, annot_list_syntax_train))\n",
    "                ])),\n",
    "        ('classifier', linear_model.SGDClassifier(loss='log'))\n",
    "    ])\n",
    "\n",
    "pipeline_syntax.fit(sentences_train, labels_list_train)"
   ]
  },
  {
   "cell_type": "code",
   "execution_count": 35,
   "metadata": {},
   "outputs": [
    {
     "name": "stdout",
     "output_type": "stream",
     "text": [
      "accuracy 0.38728813559322034\n",
      "precision 0.704829471074681\n",
      "recall 0.38728813559322034\n",
      "f1 score 0.46596541960075144\n"
     ]
    }
   ],
   "source": [
    "y_pred_syntax = pipeline_syntax.predict(sentences_dev)\n",
    "\n",
    "accuracy_syntax = accuracy_score(y_pred_syntax, labels_list_dev)\n",
    "print('accuracy {}'.format(accuracy_syntax))\n",
    "precision_syntax = precision_score(y_pred_syntax, labels_list_dev, average='weighted')\n",
    "print('precision {}'.format(precision_syntax))\n",
    "recall_syntax = recall_score(y_pred_syntax, labels_list_dev, average='weighted')\n",
    "print('recall {}'.format(recall_syntax))\n",
    "f1score_syntax = f1_score(y_pred_syntax, labels_list_dev, average='weighted')\n",
    "print('f1 score {}'.format(f1score_syntax))"
   ]
  },
  {
   "cell_type": "markdown",
   "metadata": {},
   "source": [
    "### 5. Features - count, syntax and upos"
   ]
  },
  {
   "cell_type": "code",
   "execution_count": 36,
   "metadata": {
    "scrolled": true
   },
   "outputs": [
    {
     "data": {
      "text/plain": [
       "Pipeline(memory=None,\n",
       "     steps=[('features', FeatureUnion(n_jobs=None,\n",
       "       transformer_list=[('vectorizer', CountVectorizer(analyzer='word', binary=False, decode_error='strict',\n",
       "        dtype=<class 'numpy.int64'>, encoding='utf-8', input='content',\n",
       "        lowercase=True, max_df=1.0, max_features=None, min_df=1,\n",
       "       ...m_state=None, shuffle=True, tol=None,\n",
       "       validation_fraction=0.1, verbose=0, warm_start=False))])"
      ]
     },
     "execution_count": 36,
     "metadata": {},
     "output_type": "execute_result"
    }
   ],
   "source": [
    "pipeline_combined = Pipeline([\n",
    "        ('features', FeatureUnion([\n",
    "                    ('vectorizer', CountVectorizer()),\n",
    "                    ('is_verb', pipelinize_feature_2(is_verb_feature_func, annot_list_upostag_train)),\n",
    "                    ('syntax', pipelinize_feature_2(syntax_feature_func, annot_list_syntax_train))\n",
    "                ])),\n",
    "        ('classifier', linear_model.SGDClassifier(loss='log'))\n",
    "    ])\n",
    "\n",
    "pipeline_combined.fit(sentences_train, labels_list_train)"
   ]
  },
  {
   "cell_type": "code",
   "execution_count": 37,
   "metadata": {},
   "outputs": [
    {
     "name": "stdout",
     "output_type": "stream",
     "text": [
      "accuracy 0.39322033898305087\n",
      "precision 0.7015211698969906\n",
      "recall 0.39322033898305087\n",
      "f1 score 0.4740516176619486\n"
     ]
    }
   ],
   "source": [
    "y_pred_combined = pipeline_combined.predict(sentences_dev)\n",
    "\n",
    "accuracy_combined = accuracy_score(y_pred_combined, labels_list_dev)\n",
    "print('accuracy {}'.format(accuracy_combined))\n",
    "precision_combined = precision_score(y_pred_combined, labels_list_dev, average='weighted')\n",
    "print('precision {}'.format(precision_combined))\n",
    "recall_combined = recall_score(y_pred_combined, labels_list_dev, average='weighted')\n",
    "print('recall {}'.format(recall_combined))\n",
    "f1score_combined = f1_score(y_pred_combined, labels_list_dev, average='weighted')\n",
    "print('f1 score {}'.format(f1score_combined))"
   ]
  },
  {
   "cell_type": "markdown",
   "metadata": {},
   "source": [
    "## Internal development plot"
   ]
  },
  {
   "cell_type": "code",
   "execution_count": 38,
   "metadata": {},
   "outputs": [
    {
     "data": {
      "image/png": "[encoded data removed]",
      "text/plain": [
       "<Figure size 1008x288 with 2 Axes>"
      ]
     },
     "metadata": {
      "needs_background": "light"
     },
     "output_type": "display_data"
    },
    {
     "data": {
      "image/png": "[encoded data removed]",
      "text/plain": [
       "<Figure size 1008x288 with 2 Axes>"
      ]
     },
     "metadata": {
      "needs_background": "light"
     },
     "output_type": "display_data"
    }
   ],
   "source": [
    "fig = plt.figure(figsize=(14, 4))\n",
    "fig.subplots_adjust(wspace=0.5)\n",
    "\n",
    "plt.subplot(121)\n",
    "plt.title('Accuracy')\n",
    "plt.plot(['Counts', 'Is capitalize', 'Is verb', 'Is root/nmod', 'Combined'], \n",
    "         [accuracy_counts, accuracy_iscap, accuracy_isverb, accuracy_syntax, accuracy_combined])\n",
    "\n",
    "plt.subplot(122)\n",
    "plt.title('Precision')\n",
    "plt.plot(['Counts', 'Is capitalize', 'Is verb', 'Is root/nmod', 'Combined'], \n",
    "         [precision_counts, precision_iscap, precision_isverb, precision_syntax, precision_combined])\n",
    "\n",
    "fig = plt.figure(figsize=(14, 4))\n",
    "fig.subplots_adjust(wspace=0.5)\n",
    "\n",
    "plt.subplot(121)\n",
    "plt.title('Recall')\n",
    "plt.plot(['Counts', 'Is capitalize', 'Is verb', 'Is root/nmod', 'Combined'], \n",
    "         [recall_counts, recall_iscap, recall_isverb, recall_syntax, recall_combined])\n",
    "\n",
    "plt.subplot(122)\n",
    "plt.title('F1 Score')\n",
    "plt.plot(['Counts', 'Is capitalize', 'Is verb', 'Is root/nmod', 'Combined'], \n",
    "         [f1score_counts, f1score_iscap, f1score_isverb, f1score_syntax, f1score_combined])\n",
    "\n",
    "plt.show()"
   ]
  },
  {
   "cell_type": "markdown",
   "metadata": {},
   "source": [
    "## Test results on baseline NB and maxent model with syntax features"
   ]
  },
  {
   "cell_type": "code",
   "execution_count": 39,
   "metadata": {},
   "outputs": [
    {
     "name": "stdout",
     "output_type": "stream",
     "text": [
      "accuracy 0.18223234624145787\n",
      "precision 0.9792001700316051\n",
      "recall 0.18223234624145787\n",
      "f1 score 0.29270905555296817\n"
     ]
    }
   ],
   "source": [
    "y_pred_nb_test = nb.predict(sentences_test)\n",
    "\n",
    "accuracy_nb_test = accuracy_score(y_pred_nb_test, labels_list_test)\n",
    "print('accuracy {}'.format(accuracy_nb_test))\n",
    "precision_nb_test = precision_score(y_pred_nb_test, labels_list_test, average='weighted')\n",
    "print('precision {}'.format(precision_nb_test))\n",
    "recall_nb_test = recall_score(y_pred_nb_test, labels_list_test, average='weighted')\n",
    "print('recall {}'.format(recall_nb_test))\n",
    "f1score_nb_test = f1_score(y_pred_nb_test, labels_list_test, average='weighted')\n",
    "print('f1 score {}'.format(f1score_nb_test))"
   ]
  },
  {
   "cell_type": "code",
   "execution_count": 80,
   "metadata": {},
   "outputs": [
    {
     "name": "stdout",
     "output_type": "stream",
     "text": [
      "accuracy 0.3545937737281701\n",
      "precision 0.6984457226280043\n",
      "recall 0.3545937737281701\n",
      "f1 score 0.43351555255950897\n"
     ]
    }
   ],
   "source": [
    "y_pred_combined_test = pipeline_combined.predict(sentences_test)\n",
    "\n",
    "accuracy_combined_test = accuracy_score(y_pred_combined_test, labels_list_test)\n",
    "print('accuracy {}'.format(accuracy_combined_test))\n",
    "precision_combined_test = precision_score(y_pred_combined_test, labels_list_test, average='weighted')\n",
    "print('precision {}'.format(precision_combined_test))\n",
    "recall_combined_test = recall_score(y_pred_combined_test, labels_list_test, average='weighted')\n",
    "print('recall {}'.format(recall_combined_test))\n",
    "f1score_combined_test = f1_score(y_pred_combined_test, labels_list_test, average='weighted')\n",
    "print('f1 score {}'.format(f1score_combined_test))"
   ]
  },
  {
   "cell_type": "code",
   "execution_count": 81,
   "metadata": {},
   "outputs": [
    {
     "data": {
      "image/png": "[encoded data removed]",
      "text/plain": [
       "<Figure size 1152x288 with 4 Axes>"
      ]
     },
     "metadata": {
      "needs_background": "light"
     },
     "output_type": "display_data"
    }
   ],
   "source": [
    "fig = plt.figure(figsize=(16, 4))\n",
    "fig.subplots_adjust(wspace=0.5)\n",
    "plt.subplot(141)\n",
    "plt.title('Accuracy')\n",
    "plt.plot(['NB', 'Maxent'], \n",
    "         [accuracy_nb_test, accuracy_combined_test])\n",
    "\n",
    "plt.subplot(142)\n",
    "plt.title('Precision')\n",
    "plt.plot(['NB', 'Maxent'], \n",
    "         [precision_nb_test, precision_combined_test])\n",
    "\n",
    "plt.subplot(143)\n",
    "plt.title('Recall')\n",
    "plt.plot(['NB', 'Maxent'], \n",
    "         [recall_nb_test, recall_combined_test])\n",
    "\n",
    "plt.subplot(144)\n",
    "plt.title('F1 Score')\n",
    "plt.plot(['NB', 'Maxent'], \n",
    "         [f1score_nb_test, f1score_combined_test])\n",
    "\n",
    "plt.show()"
   ]
  },
  {
   "cell_type": "markdown",
   "metadata": {},
   "source": [
    "The accuracy of the combined maxent model is 35.45% which is significantly higher than baseline model which gives 18.22%. Same for the recall and f1 score, maxent model gives higher scores. On the contrary, the precision is higher for baseline but then the recall is very low so having high precision only does not mean that the model’s performance is very good."
   ]
  },
  {
   "cell_type": "markdown",
   "metadata": {},
   "source": [
    "## 20 most extreme weights"
   ]
  },
  {
   "cell_type": "code",
   "execution_count": 82,
   "metadata": {},
   "outputs": [],
   "source": [
    "sgd_clf = pipeline_combined.named_steps['classifier']\n",
    "features_vect = pipeline_combined.named_steps['features']"
   ]
  },
  {
   "cell_type": "code",
   "execution_count": 86,
   "metadata": {},
   "outputs": [
    {
     "name": "stdout",
     "output_type": "stream",
     "text": [
      "abandon.01: vectorizer__intensiven vectorizer__merkur vectorizer__frühzeit vectorizer__himmelskörper vectorizer__sonnennächster vectorizer__zwar vectorizer__125 vectorizer__gestein vectorizer__temperaturen vectorizer__problematisch vectorizer__messergebnis vectorizer__argon vectorizer__verfälscht vectorizer__entweichen vectorizer__qualität vectorizer__arbeit vectorizer__hoch vectorizer__exorbitant vectorizer__auszusetzen vectorizer__ausgesetzt\n",
      "\n",
      "abolish.01: vectorizer__wehrpflicht vectorizer__besatzung vectorizer__bayrischen vectorizer__1806 vectorizer__wolfurt vectorizer__hofsteig vectorizer__niedergericht vectorizer__jahrhundertealte vectorizer__ziel vectorizer__fluss vectorizer__bewegung vectorizer__züchtigungsrecht vectorizer__gesetzesänderung vectorizer__elterliche vectorizer__bundesstaat vectorizer__chartisten vectorizer__abzuschaffen vectorizer__getreidegesetze vectorizer__sklaverei vectorizer__abgeschafft\n",
      "\n",
      "abort.01: vectorizer__pietatis vectorizer__hauptanstalt vectorizer__versatzamt vectorizer__ziert vectorizer__leihhaus vectorizer__mildes vectorizer__strike vectorizer__schiff vectorizer__gelöscht vectorizer__geschleppt vectorizer__achterschiff vectorizer__gijon vectorizer__restladung vectorizer__587 vectorizer__containern vectorizer__verbliebene vectorizer__verschrottung vectorizer__wechselte vectorizer__zur vectorizer__abgebrochen\n",
      "\n",
      "absorb.01: vectorizer__medien vectorizer__underworld vectorizer__unterwelt vectorizer__morde vectorizer__zeit vectorizer__jersey vectorizer__ohne vectorizer__aufzunehmen vectorizer__wien vectorizer__nimmt vectorizer__krieg vectorizer__wieder vectorizer__wohlwollend vectorizer__nahmen vectorizer__aufnahmen vectorizer__positiv vectorizer__aufnehmen vectorizer__luft vectorizer__nahm vectorizer__aufgenommen\n",
      "\n",
      "accelerate.01: vectorizer__manhattan vectorizer__mathematisch vectorizer__technisch vectorizer__beschleunigte vectorizer__projects vectorizer__numerik vectorizer__führen vectorizer__geschwindigkeiten vectorizer__hervorragenden vectorizer__dichten vectorizer__spritzschichten vectorizer__spritzpartikel vectorizer__hafteigenschaften vectorizer__1737 vectorizer__1743 vectorizer__abbau vectorizer__verfall vectorizer__marmorgewinnung vectorizer__burgfelsen vectorizer__beschleunigt\n",
      "\n"
     ]
    }
   ],
   "source": [
    "feature_names = features_vect.get_feature_names()\n",
    "classes = sgd_clf.classes_[:5]\n",
    "for i, class_label in enumerate(classes):\n",
    "    top20 = np.argsort(sgd_clf.coef_[i])[-20:]\n",
    "    print(\"{}: {}\".format(class_label, \" \".join(feature_names[j] for j in top20)))\n",
    "    print()"
   ]
  },
  {
   "cell_type": "markdown",
   "metadata": {},
   "source": [
    "The most extreme features of our combined features maxent model are represented per class. Among which, the 20 most extreme feature weights of the alphabetically first 5 classes are observed. The first label abandon.01 has higher weights for features such as intensiven, merkur, frühzeit, etc., which fire for this frame in the train set. Same is true for the most of the labels, but there are instances which have the same features with the same annotations but the semantic frame is different. These predictions have a chance of improvment if higher order n-grams are considered so that the context of the word and the annotations of the context words might help identify the label correctly."
   ]
  }
 ],
 "metadata": {
  "kernelspec": {
   "display_name": "Python 3",
   "language": "python",
   "name": "python3"
  },
  "language_info": {
   "codemirror_mode": {
    "name": "ipython",
    "version": 3
   },
   "file_extension": ".py",
   "mimetype": "text/x-python",
   "name": "python",
   "nbconvert_exporter": "python",
   "pygments_lexer": "ipython3",
   "version": "3.8.5"
  }
 },
 "nbformat": 4,
 "nbformat_minor": 2
}
